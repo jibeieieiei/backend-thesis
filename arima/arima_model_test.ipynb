{
 "cells": [
  {
   "cell_type": "code",
   "execution_count": 3,
   "metadata": {},
   "outputs": [],
   "source": [
    "import pandas as pd\n",
    "import yfinance as yf\n",
    "import pandas as pd\n",
    "import numpy as np\n",
    "import matplotlib.pyplot as plt\n",
    "import itertools\n",
    "import warnings\n",
    "from statsmodels.tsa.arima.model import ARIMA\n",
    "import numpy as np \n",
    "import pandas as pd \n",
    "import matplotlib.pyplot as plt\n",
    "from pandas.plotting import lag_plot\n",
    "from sklearn.metrics import mean_squared_error\n",
    "import os \n",
    "warnings.filterwarnings(\"ignore\")\n"
   ]
  },
  {
   "cell_type": "code",
   "execution_count": 4,
   "metadata": {},
   "outputs": [],
   "source": [
    "# Symbol \n",
    "stocks = [\n",
    "    'ADVANC', 'AOT', 'AWC', 'BANPU', 'BBL', 'BDMS', 'BEM', 'BGRIM', 'BH', 'BTS', 'CBG',\n",
    "    'CENTEL', 'COM7', 'CPALL', 'CPF', 'CPN', 'CRC', 'DELTA', 'EA', 'EGCO', 'GLOBAL', 'GPSC', \n",
    "    'GULF', 'HMPRO', 'INTUCH', 'IVL', 'KBANK', 'KCE', 'KTB', 'KTC', 'LH', 'MINT', 'MTC', 'OR', \n",
    "    'OSP', 'PTT', 'PTTEP', 'PTTGC', 'RATCH', 'SAWAD', 'SCB', \n",
    "    'SCC', 'SCGP', 'TISCO', 'TLI', 'TOP', 'TRUE', 'TTB', 'TU', 'WHA', \n",
    "]"
   ]
  },
  {
   "cell_type": "code",
   "execution_count": 9,
   "metadata": {},
   "outputs": [
    {
     "data": {
      "text/plain": [
       "0        188.5\n",
       "1        188.0\n",
       "2        187.0\n",
       "3        186.5\n",
       "4        186.5\n",
       "         ...  \n",
       "10976    217.0\n",
       "10977    217.0\n",
       "10978    217.0\n",
       "10979    218.0\n",
       "10980    217.0\n",
       "Name: Close, Length: 10981, dtype: float64"
      ]
     },
     "execution_count": 9,
     "metadata": {},
     "output_type": "execute_result"
    }
   ],
   "source": [
    "df = pd.read_csv(\"../data/15t/ADVANC_SET.csv\")\n",
    "df[\"Close\"]"
   ]
  },
  {
   "cell_type": "code",
   "execution_count": 10,
   "metadata": {},
   "outputs": [
    {
     "name": "stdout",
     "output_type": "stream",
     "text": [
      "p-Values:0.2018795108829684\n",
      "p-Values:0.0\n",
      "2\n"
     ]
    }
   ],
   "source": [
    "# find d integrate\n",
    "from statsmodels.tsa.stattools import adfuller\n",
    "tmp = df.copy()\n",
    "# adf_res = adfuller(tmp['Close'], autolag = 'AIC')[1]\n",
    "_ =  tmp['Close']\n",
    "val = 9999\n",
    "i = 0 \n",
    "while val > 0.05:\n",
    "    adf_res = adfuller(_.dropna(), autolag = 'AIC')\n",
    "    val = adf_res[1]\n",
    "    _ = _.diff(1)\n",
    "    print('p-Values:' + str(val))\n",
    "    i += 1\n",
    "print(i)"
   ]
  },
  {
   "cell_type": "markdown",
   "metadata": {},
   "source": []
  },
  {
   "cell_type": "code",
   "execution_count": 11,
   "metadata": {},
   "outputs": [
    {
     "name": "stdout",
     "output_type": "stream",
     "text": [
      "p=  4\n"
     ]
    },
    {
     "data": {
      "text/plain": [
       "5"
      ]
     },
     "execution_count": 11,
     "metadata": {},
     "output_type": "execute_result"
    },
    {
     "data": {
      "image/png": "[encoded data removed]",
      "text/plain": [
       "<Figure size 1000x400 with 1 Axes>"
      ]
     },
     "metadata": {},
     "output_type": "display_data"
    }
   ],
   "source": [
    "# find p\n",
    "#Auto Regressive (p)\n",
    "from statsmodels.graphics.tsaplots import  plot_pacf\n",
    "from statsmodels.tsa.stattools import pacf\n",
    "\n",
    "plt.rcParams.update({'figure.figsize':(10,4)})\n",
    "plot_pacf(df['Close'].dropna(), method = 'ols')\n",
    "df_pacf = pacf(df['Close'].dropna(), method = 'ols')\n",
    "\n",
    "\n",
    "import numpy as np\n",
    "\n",
    "for i in range(0, len(df_pacf)):\n",
    "    if df_pacf[i] < 1.96 / np.sqrt(len(df['Close'])):\n",
    "        print('p= ', i - 1)\n",
    "        break\n",
    "i"
   ]
  },
  {
   "cell_type": "code",
   "execution_count": null,
   "metadata": {},
   "outputs": [],
   "source": [
    "# find \n",
    "#Moving Average (q)\n",
    "from statsmodels.graphics.tsaplots import  plot_acf\n",
    "from statsmodels.tsa.stattools import acf\n",
    "\n",
    "plt.rcParams.update({'figure.figsize':(10,4)})\n",
    "plot_acf(df['Close'], fft = True)\n",
    "df_acf = acf(df['Close'], fft = True)\n"
   ]
  },
  {
   "cell_type": "code",
   "execution_count": null,
   "metadata": {},
   "outputs": [],
   "source": [
    "#find q \n",
    "for i in range(0, len(df_acf)):\n",
    "    if df_acf[i] < 1.96 / np.sqrt(len(df['Close'])):\n",
    "        print('q=', i - 1)\n",
    "        break\n",
    "# q cannot find using grid search\n",
    "    "
   ]
  },
  {
   "cell_type": "code",
   "execution_count": null,
   "metadata": {},
   "outputs": [],
   "source": [
    "#Test order\n",
    "import itertools\n",
    "\n",
    "p = range(5, 6)\n",
    "d = range(2,3)\n",
    "q = range(0, 3)\n",
    "pdq = list(itertools.product(p, d, q))\n",
    "print(pdq)\n",
    "\n",
    "from statsmodels.tsa.arima.model import ARIMA\n",
    "\n",
    "aic = []\n",
    "\n",
    "\n",
    "for param in pdq:\n",
    "    try:\n",
    "        model = ARIMA(df['Close'].dropna(), order = param, seasonal_order=(0,1,1,5))\n",
    "        results = model.fit()\n",
    "        print('Order = {}'.format(param))\n",
    "        print('AIC = {}'.format(results.aic))\n",
    "        if results.aic > 0 :\n",
    "            print(\"YESSSSSSSSSSSSSSSSSSSSSS\")\n",
    "        a = 'Order: '+str(param) +' AIC: ' + str(results.aic)\n",
    "        aic.append(a)\n",
    "    except:\n",
    "        continue"
   ]
  },
  {
   "cell_type": "code",
   "execution_count": null,
   "metadata": {},
   "outputs": [],
   "source": [
    "timeframe = [\"15t\"]\n",
    "partition_data_prediction = {}\n",
    "partition_data_mse = {}\n",
    "for tf in timeframe:\n",
    "    for symbol in stocks[1:2]:\n",
    "        print(f\"Timeframe = {tf}, SYMBOL = {symbol}..............\")\n",
    "        # df= pd.read_csv(f\"./data/{tf}/{symbol}_SET.csv\")\n",
    "        if tf == \"15t\":\n",
    "            train_data = df[(df['datetime'] > '2023-03-01') & (df['datetime'] < '2023-10-01')]\n",
    "            training_data = train_data['Close'].values\n",
    "            test_data = df[(df['datetime'] >= '2023-10-01')]\n",
    "            test_data = test_data['Close'].values\n",
    "        history = [x for x in training_data]\n",
    "        model_predictions = []\n",
    "        _prediction = []\n",
    "        N_test_observations = len(test_data)\n",
    "        for time_point in range(N_test_observations):\n",
    "            # print(f'round ={time_point}')\n",
    "            model = ARIMA(history, order=(5,2,2))\n",
    "            model_fit = model.fit()\n",
    "            output = model_fit.forecast(10)\n",
    "            yhat = round(output[0],2)\n",
    "            print(\"output = \", output)\n",
    "            model_predictions.append(yhat)\n",
    "            true_test_value = test_data[time_point]\n",
    "            history.append(yhat)\n",
    "            # history.append(round(output[1],2))\n",
    "        MSE_error = mean_squared_error(test_data, model_predictions)\n",
    "        print('Testing Mean Squared Error is {}'.format(MSE_error))\n",
    "        for period_predict in range(0,2):\n",
    "            model = ARIMA(history, order=(5,2,2))\n",
    "            model_fit = model.fit()\n",
    "            output = model_fit.forecast()\n",
    "            yhat = output[0]\n",
    "            print(\"y_hat= \", output)\n",
    "            _prediction.append(yhat)\n",
    "        partition_data_mse[symbol] = MSE_error\n",
    "        partition_data_prediction[symbol] = _prediction\n",
    "            \n"
   ]
  },
  {
   "cell_type": "code",
   "execution_count": null,
   "metadata": {},
   "outputs": [],
   "source": [
    "round(17.89112, 2)"
   ]
  },
  {
   "cell_type": "code",
   "execution_count": null,
   "metadata": {},
   "outputs": [],
   "source": [
    "# import pickle \n",
    "# with open('partition_data_price_data.pkl', 'wb') as fp:\n",
    "#     pickle.dump(partition_data_prediction, fp)\n",
    "#     print('dictionary saved successfully to file')\n",
    "\n",
    "import pickle \n",
    "with open('partition_data_price_data.pkl', 'rb') as fp:\n",
    "    person = pickle.load(fp)\n",
    "    print('Person dictionary')\n",
    "    print(person)"
   ]
  },
  {
   "cell_type": "code",
   "execution_count": null,
   "metadata": {},
   "outputs": [],
   "source": [
    "dictt = pd.read_pickle(\"./partition_data_price_data.pkl\")\n",
    "dictt"
   ]
  },
  {
   "cell_type": "code",
   "execution_count": null,
   "metadata": {},
   "outputs": [],
   "source": [
    "# test_set_range = df[10600:].index\n",
    "# plt.plot(test_set_range, model_predictions, color='blue', marker='o', linestyle='dashed',label='Predicted Price')\n",
    "# plt.plot(test_set_range, test_data, color='red', label='Actual Price')\n",
    "# plt.title('TESLA Prices Prediction')\n",
    "# plt.xlabel('Date')\n",
    "# plt.ylabel('Prices')\n",
    "# plt.legend()\n",
    "# plt.show()"
   ]
  }
 ],
 "metadata": {
  "kernelspec": {
   "display_name": "thesis",
   "language": "python",
   "name": "python3"
  },
  "language_info": {
   "codemirror_mode": {
    "name": "ipython",
    "version": 3
   },
   "file_extension": ".py",
   "mimetype": "text/x-python",
   "name": "python",
   "nbconvert_exporter": "python",
   "pygments_lexer": "ipython3",
   "version": "3.9.18"
  }
 },
 "nbformat": 4,
 "nbformat_minor": 2
}
