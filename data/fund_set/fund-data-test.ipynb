{
 "cells": [
  {
   "cell_type": "code",
   "execution_count": 2,
   "metadata": {},
   "outputs": [],
   "source": [
    "th_stocks = [\n",
    "    'ADVANC', 'AOT', 'AWC', 'BANPU',\n",
    "    'BBL', 'BDMS', 'BEM', 'BGRIM', 'BH', 'BTS', 'CBG',\n",
    "    'CENTEL', 'COM7', 'CPALL', 'CPF', 'CPN', 'CRC', 'DELTA',\n",
    "    'EA', 'EGCO', 'GLOBAL', 'GPSC', 'GULF', 'HMPRO', 'INTUCH', 'IVL',\n",
    "    'JMART', 'JMT', 'KBANK', 'KTB', 'KTC', 'LH', 'MINT', 'MTC',\n",
    "    'OR', 'OSP', 'PTT',  'PTTEP',  'PTTGC', 'RATCH',\n",
    "    'SAWAD', 'SCB', 'SCC', 'SCGP', 'TIDLOR', 'TISCO', 'TOP', 'TRUE',\n",
    "    'TTB', 'TU'\n",
    "]"
   ]
  },
  {
   "cell_type": "code",
   "execution_count": 3,
   "metadata": {},
   "outputs": [
    {
     "name": "stdout",
     "output_type": "stream",
     "text": [
      "downloading..ADVANC\n",
      "downloading..AOT\n",
      "downloading..AWC\n",
      "downloading..BANPU\n",
      "downloading..BBL\n",
      "downloading..BDMS\n",
      "downloading..BEM\n",
      "downloading..BGRIM\n",
      "downloading..BH\n",
      "downloading..BTS\n",
      "downloading..CBG\n",
      "downloading..CENTEL\n",
      "downloading..COM7\n",
      "downloading..CPALL\n",
      "downloading..CPF\n",
      "downloading..CPN\n",
      "downloading..CRC\n",
      "downloading..DELTA\n",
      "downloading..EA\n",
      "downloading..EGCO\n",
      "downloading..GLOBAL\n",
      "downloading..GPSC\n",
      "downloading..GULF\n",
      "downloading..HMPRO\n",
      "downloading..INTUCH\n",
      "downloading..IVL\n",
      "downloading..JMART\n",
      "downloading..JMT\n",
      "downloading..KBANK\n",
      "downloading..KTB\n",
      "downloading..KTC\n",
      "downloading..LH\n",
      "downloading..MINT\n",
      "downloading..MTC\n",
      "downloading..OR\n",
      "downloading..OSP\n",
      "downloading..PTT\n",
      "downloading..PTTEP\n",
      "downloading..PTTGC\n",
      "downloading..RATCH\n",
      "downloading..SAWAD\n",
      "downloading..SCB\n",
      "downloading..SCC\n",
      "downloading..SCGP\n",
      "downloading..TIDLOR\n",
      "downloading..TISCO\n",
      "downloading..TOP\n",
      "downloading..TRUE\n",
      "downloading..TTB\n",
      "downloading..TU\n"
     ]
    }
   ],
   "source": [
    "import json\n",
    "import requests\n",
    "from pathlib import Path\n",
    "\n",
    "types_ = [\"tech\", \"service\", \"resourc\", \"propcon\", \"indus\",\n",
    "                  \"fincial\", \"consump\", \"agro\"]\n",
    "for s in th_stocks:\n",
    "    print(f\"downloading..{s}\")\n",
    "    my_referer = f\"https://www.set.or.th/th/market/product/stock/quote/{s}/factsheet\"\n",
    "    raw = requests.get(\n",
    "        f\"https://www.set.or.th/api/set/factsheet/{s}/trading-stat?lang=th\",\n",
    "        headers={'referer': my_referer}).json()\n",
    "    # save file\n",
    "    # print(raw)\n",
    "    # Path(f\"./data/fund_set/\").mkdir(parents=True, exist_ok=True)\n",
    "    with open(f'{s}.json', \"w\") as save_file:\n",
    "        json.dump(raw, save_file, indent=6)"
   ]
  }
 ],
 "metadata": {
  "kernelspec": {
   "display_name": "thesis",
   "language": "python",
   "name": "python3"
  },
  "language_info": {
   "codemirror_mode": {
    "name": "ipython",
    "version": 3
   },
   "file_extension": ".py",
   "mimetype": "text/x-python",
   "name": "python",
   "nbconvert_exporter": "python",
   "pygments_lexer": "ipython3",
   "version": "3.10.13"
  }
 },
 "nbformat": 4,
 "nbformat_minor": 2
}
